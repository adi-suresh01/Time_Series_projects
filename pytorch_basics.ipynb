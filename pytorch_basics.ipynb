{
 "cells": [
  {
   "cell_type": "code",
   "execution_count": 1,
   "id": "9affb701-e3d4-4bf2-a059-8206a4bc695b",
   "metadata": {},
   "outputs": [],
   "source": [
    "#Imports required\n",
    "\n",
    "import torch\n",
    "import torch.nn as nn\n",
    "import torch.optim as optim\n",
    "import numpy as np\n",
    "import pandas as pd\n",
    "import sklearn\n",
    "import matplotlib.pyplot as plt"
   ]
  },
  {
   "cell_type": "code",
   "execution_count": 13,
   "id": "7d9a104d-6c1a-4c04-8af3-ff00fb2607cc",
   "metadata": {},
   "outputs": [
    {
     "name": "stdout",
     "output_type": "stream",
     "text": [
      "tensor([[0.3632, 0.3416, 0.6614, 0.5483, 0.3601],\n",
      "        [0.6622, 0.6922, 0.7080, 0.8565, 0.3573],\n",
      "        [0.9920, 0.1045, 0.7056, 0.8565, 0.2920]])\n",
      "tensor([0.3632, 0.3416, 0.6614, 0.5483, 0.3601, 0.6622, 0.6922, 0.7080, 0.8565,\n",
      "        0.3573, 0.9920, 0.1045, 0.7056, 0.8565, 0.2920])\n"
     ]
    }
   ],
   "source": [
    "x = torch.rand(3,5)\n",
    "print(x)\n",
    "y = x.view(15)\n",
    "print(y)"
   ]
  },
  {
   "cell_type": "code",
   "execution_count": null,
   "id": "6b72d98c-b95e-4176-be63-47b15992c5c3",
   "metadata": {},
   "outputs": [],
   "source": []
  }
 ],
 "metadata": {
  "kernelspec": {
   "display_name": "Python 3 (ipykernel)",
   "language": "python",
   "name": "python3"
  },
  "language_info": {
   "codemirror_mode": {
    "name": "ipython",
    "version": 3
   },
   "file_extension": ".py",
   "mimetype": "text/x-python",
   "name": "python",
   "nbconvert_exporter": "python",
   "pygments_lexer": "ipython3",
   "version": "3.11.7"
  }
 },
 "nbformat": 4,
 "nbformat_minor": 5
}
