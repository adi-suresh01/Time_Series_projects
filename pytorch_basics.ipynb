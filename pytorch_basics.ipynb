{
 "cells": [
  {
   "cell_type": "code",
   "execution_count": 1,
   "id": "9affb701-e3d4-4bf2-a059-8206a4bc695b",
   "metadata": {},
   "outputs": [],
   "source": [
    "#Imports required\n",
    "import torch\n",
    "import torch.nn as nn\n",
    "import torch.optim as optim\n",
    "import numpy as np\n",
    "import pandas as pd\n",
    "import sklearn\n",
    "import matplotlib.pyplot as plt"
   ]
  },
  {
   "cell_type": "code",
   "execution_count": 15,
   "id": "7d9a104d-6c1a-4c04-8af3-ff00fb2607cc",
   "metadata": {},
   "outputs": [
    {
     "name": "stdout",
     "output_type": "stream",
     "text": [
      "tensor([[0.4160, 0.1326, 0.2982, 0.7058, 0.8730],\n",
      "        [0.7834, 0.4607, 0.4110, 0.7813, 0.3256],\n",
      "        [0.1527, 0.0740, 0.2917, 0.6323, 0.1302]])\n",
      "tensor([[0.4160, 0.1326, 0.2982],\n",
      "        [0.7058, 0.8730, 0.7834],\n",
      "        [0.4607, 0.4110, 0.7813],\n",
      "        [0.3256, 0.1527, 0.0740],\n",
      "        [0.2917, 0.6323, 0.1302]])\n"
     ]
    }
   ],
   "source": [
    "# reshaping\n",
    "x = torch.rand(3,5) #first parameter = dimensions, second parameter = elements\n",
    "print(x)\n",
    "y = x.view(-1,3)\n",
    "print(y)"
   ]
  },
  {
   "cell_type": "code",
   "execution_count": 17,
   "id": "6b72d98c-b95e-4176-be63-47b15992c5c3",
   "metadata": {},
   "outputs": [
    {
     "name": "stdout",
     "output_type": "stream",
     "text": [
      "tensor([[0.3985, 0.9599, 0.4980],\n",
      "        [0.5639, 0.9633, 0.1594]])\n",
      "[[0.39845496 0.9599464  0.4980412 ]\n",
      " [0.56393224 0.96331006 0.15941775]]\n"
     ]
    }
   ],
   "source": [
    "# torch to numpy conversion\n",
    "x = torch.rand(2,3)\n",
    "print(x)\n",
    "y = x.numpy()\n",
    "print(y)"
   ]
  },
  {
   "cell_type": "code",
   "execution_count": 35,
   "id": "616799f7-2ad1-4ee6-9c78-c9c72ef7fd6b",
   "metadata": {},
   "outputs": [
    {
     "name": "stdout",
     "output_type": "stream",
     "text": [
      "[[0.84296866 0.55615392 0.83243546]\n",
      " [0.63694605 0.9632255  0.56368608]]\n",
      "tensor([0.8430, 0.5562, 0.8324, 0.6369, 0.9632, 0.5637], dtype=torch.float64)\n",
      "tensor([1.8430, 1.5562, 1.8324, 1.6369, 1.9632, 1.5637], dtype=torch.float64)\n"
     ]
    }
   ],
   "source": [
    "# numpy to torch conversion\n",
    "x = np.random.rand(2,3)\n",
    "print(x)\n",
    "y = torch.from_numpy(x).view(-1)\n",
    "print(y)"
   ]
  },
  {
   "cell_type": "code",
   "execution_count": null,
   "id": "2dc26940-60b0-4027-b973-0f229da94ecb",
   "metadata": {},
   "outputs": [],
   "source": []
  }
 ],
 "metadata": {
  "kernelspec": {
   "display_name": "Python 3 (ipykernel)",
   "language": "python",
   "name": "python3"
  },
  "language_info": {
   "codemirror_mode": {
    "name": "ipython",
    "version": 3
   },
   "file_extension": ".py",
   "mimetype": "text/x-python",
   "name": "python",
   "nbconvert_exporter": "python",
   "pygments_lexer": "ipython3",
   "version": "3.11.7"
  }
 },
 "nbformat": 4,
 "nbformat_minor": 5
}
