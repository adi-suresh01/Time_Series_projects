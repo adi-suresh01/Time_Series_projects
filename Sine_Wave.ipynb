{
 "cells": [
  {
   "cell_type": "code",
   "execution_count": 1,
   "id": "38f177b3-24fc-44c0-b32d-e806e6087152",
   "metadata": {},
   "outputs": [],
   "source": [
    "# All imports required\n",
    "\n",
    "import torch\n",
    "import numpy as np\n",
    "import pandas as pd\n",
    "import sklearn\n",
    "import matplotlib.pyplot as plt"
   ]
  },
  {
   "cell_type": "code",
   "execution_count": null,
   "id": "d2056be3-e846-4d88-a6a3-064cdd586c3a",
   "metadata": {},
   "outputs": [],
   "source": [
    "print(f\"Pytorch version: {torch.__version__}\")\n",
    "\n",
    "print(f\"Is MPS (Metal performance shader) built? {torch.backends.mps.is_built()}\")\n",
    "print("
   ]
  }
 ],
 "metadata": {
  "kernelspec": {
   "display_name": "Python 3 (ipykernel)",
   "language": "python",
   "name": "python3"
  },
  "language_info": {
   "codemirror_mode": {
    "name": "ipython",
    "version": 3
   },
   "file_extension": ".py",
   "mimetype": "text/x-python",
   "name": "python",
   "nbconvert_exporter": "python",
   "pygments_lexer": "ipython3",
   "version": "3.11.7"
  }
 },
 "nbformat": 4,
 "nbformat_minor": 5
}
